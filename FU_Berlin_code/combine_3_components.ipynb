{
 "cells": [
  {
   "cell_type": "code",
   "execution_count": 1,
   "id": "a8839cb5",
   "metadata": {
    "scrolled": true
   },
   "outputs": [],
   "source": [
    "import pandas as pd\n",
    "import numpy as np\n",
    "import obspy\n",
    "import json\n",
    "import os\n",
    "import matplotlib.pyplot as plt\n",
    "import matplotlib.dates as dates\n",
    "\n",
    "os.chdir('/home/javak/phasenet_chile-subduction-zone')\n",
    "PROJECT_ROOT = os.getcwd()"
   ]
  },
  {
   "cell_type": "code",
   "execution_count": 2,
   "id": "604d8363",
   "metadata": {},
   "outputs": [],
   "source": [
    "# Load events catalog\n",
    "os.chdir('/home/javak/Sample_data_chile')\n",
    "CATALOG_ROOT = os.getcwd()\n",
    "catalog_txt = pd.read_csv(os.path.join(CATALOG_ROOT, \"Events_catalog/IPOC_2007_2020_picks.txt\"), sep=\"\\t\")\n",
    "export_fig_path ='/home/javak/Sample_data_chile/Comparing PhaseNet and real data/CX.PB19.D.2020.366'"
   ]
  },
  {
   "cell_type": "code",
   "execution_count": 15,
   "id": "1fa8332a",
   "metadata": {},
   "outputs": [],
   "source": [
    "\n",
    "streamZ = obspy.read(os.path.join(CATALOG_ROOT, \"mseed/CARS/CX.CAR3.00.HHE.D.2012.001\"), sep=\"\\t\")\n",
    "streamN = obspy.read(os.path.join(CATALOG_ROOT, \"mseed/CARS/CX.PB01..HHN.D.2012.001\"), sep=\"\\t\")\n",
    "streamE = obspy.read(os.path.join(CATALOG_ROOT, \"mseed/CARS/CX.PB01..HHE.D.2020.366\"), sep=\"\\t\")\n",
    "streamN += streamE\n",
    "streamN += streamZ\n",
    "stream = streamN.sort()\n",
    "stream.write(os.path.join(CATALOG_ROOT, \"mseed/CARS/CX.PB01..NEZ.HH.D.2020.366\"), sep=\"\\t\", format=\"MSEED\")\n",
    "\n"
   ]
  },
  {
   "cell_type": "code",
   "execution_count": 1636,
   "id": "c7f37220",
   "metadata": {},
   "outputs": [
    {
     "name": "stdout",
     "output_type": "stream",
     "text": [
      "fname                            CX.PB01..NEZ.HH.D.2020.366\n",
      "t0                                  2020-12-30T23:59:53.528\n",
      "p_idx     [55244, 68003, 74207, 120080, 135219, 184728, ...\n",
      "p_prob    [0.385, 0.305, 0.465, 0.946, 0.563, 0.888, 0.6...\n",
      "s_idx     [591, 39182, 55572, 81271, 121928, 137380, 156...\n",
      "s_prob    [0.555, 0.404, 0.568, 0.388, 0.697, 0.381, 0.6...\n",
      "Name: 0, dtype: object\n",
      "                        fname                       t0  \\\n",
      "0  CX.PB01..NEZ.HH.D.2020.366  2020-12-30T23:59:53.528   \n",
      "\n",
      "                                               p_idx  \\\n",
      "0  [55244, 68003, 74207, 120080, 135219, 184728, ...   \n",
      "\n",
      "                                              p_prob  \\\n",
      "0  [0.385, 0.305, 0.465, 0.946, 0.563, 0.888, 0.6...   \n",
      "\n",
      "                                               s_idx  \\\n",
      "0  [591, 39182, 55572, 81271, 121928, 137380, 156...   \n",
      "\n",
      "                                              s_prob  \n",
      "0  [0.555, 0.404, 0.568, 0.388, 0.697, 0.381, 0.6...  \n"
     ]
    }
   ],
   "source": [
    "picks_csv = pd.read_csv(os.path.join(PROJECT_ROOT, \"results/picks.csv\"), sep=\"\\t\")\n",
    "picks_csv.loc[:, 'p_idx'] = picks_csv[\"p_idx\"].apply(lambda x: x.strip(\"[]\").split(\",\"))\n",
    "picks_csv.loc[:, 'p_prob'] = picks_csv[\"p_prob\"].apply(lambda x: x.strip(\"[]\").split(\",\"))\n",
    "picks_csv.loc[:, 's_idx'] = picks_csv[\"s_idx\"].apply(lambda x: x.strip(\"[]\").split(\",\"))\n",
    "picks_csv.loc[:, 's_prob'] = picks_csv[\"s_prob\"].apply(lambda x: x.strip(\"[]\").split(\",\"))\n",
    "print(picks_csv.iloc[0])\n",
    "print(picks_csv)"
   ]
  },
  {
   "cell_type": "code",
   "execution_count": 1637,
   "id": "31a8d8f3",
   "metadata": {},
   "outputs": [],
   "source": [
    "with open(os.path.join(PROJECT_ROOT, \"results/picks.json\")) as fp:\n",
    "    picks_json = json.load(fp)  \n",
    "#print(picks_json[0])"
   ]
  },
  {
   "cell_type": "code",
   "execution_count": 1638,
   "id": "c0420ae1",
   "metadata": {},
   "outputs": [],
   "source": [
    "# convert jason to data frame\n",
    "df = pd.DataFrame.from_dict(pd.json_normalize(picks_json), orient='columns')\n",
    "df_p_waves = df[df[\"type\"] == 'p']\n",
    "#df_p_waves = df_p_waves.sort_values('timestamp')\n",
    "df_s_waves = df[df[\"type\"] == 's']"
   ]
  },
  {
   "cell_type": "code",
   "execution_count": null,
   "id": "7fe87f56",
   "metadata": {},
   "outputs": [],
   "source": []
  },
  {
   "cell_type": "code",
   "execution_count": 1639,
   "id": "9e2040bf",
   "metadata": {},
   "outputs": [
    {
     "data": {
      "text/html": [
       "<div>\n",
       "<style scoped>\n",
       "    .dataframe tbody tr th:only-of-type {\n",
       "        vertical-align: middle;\n",
       "    }\n",
       "\n",
       "    .dataframe tbody tr th {\n",
       "        vertical-align: top;\n",
       "    }\n",
       "\n",
       "    .dataframe thead th {\n",
       "        text-align: right;\n",
       "    }\n",
       "</style>\n",
       "<table border=\"1\" class=\"dataframe\">\n",
       "  <thead>\n",
       "    <tr style=\"text-align: right;\">\n",
       "      <th></th>\n",
       "      <th>id</th>\n",
       "      <th>timestamp</th>\n",
       "      <th>prob</th>\n",
       "      <th>type</th>\n",
       "    </tr>\n",
       "  </thead>\n",
       "  <tbody>\n",
       "    <tr>\n",
       "      <th>0</th>\n",
       "      <td>CX.PB01..NEZ.HH.D.2020.366</td>\n",
       "      <td>2020-12-31T00:09:05.968</td>\n",
       "      <td>0.385177</td>\n",
       "      <td>p</td>\n",
       "    </tr>\n",
       "    <tr>\n",
       "      <th>1</th>\n",
       "      <td>CX.PB01..NEZ.HH.D.2020.366</td>\n",
       "      <td>2020-12-31T00:11:13.558</td>\n",
       "      <td>0.305145</td>\n",
       "      <td>p</td>\n",
       "    </tr>\n",
       "    <tr>\n",
       "      <th>2</th>\n",
       "      <td>CX.PB01..NEZ.HH.D.2020.366</td>\n",
       "      <td>2020-12-31T00:12:15.598</td>\n",
       "      <td>0.464926</td>\n",
       "      <td>p</td>\n",
       "    </tr>\n",
       "    <tr>\n",
       "      <th>3</th>\n",
       "      <td>CX.PB01..NEZ.HH.D.2020.366</td>\n",
       "      <td>2020-12-31T00:19:54.328</td>\n",
       "      <td>0.946265</td>\n",
       "      <td>p</td>\n",
       "    </tr>\n",
       "    <tr>\n",
       "      <th>4</th>\n",
       "      <td>CX.PB01..NEZ.HH.D.2020.366</td>\n",
       "      <td>2020-12-31T00:22:25.718</td>\n",
       "      <td>0.563404</td>\n",
       "      <td>p</td>\n",
       "    </tr>\n",
       "    <tr>\n",
       "      <th>...</th>\n",
       "      <td>...</td>\n",
       "      <td>...</td>\n",
       "      <td>...</td>\n",
       "      <td>...</td>\n",
       "    </tr>\n",
       "    <tr>\n",
       "      <th>273</th>\n",
       "      <td>CX.PB01..NEZ.HH.D.2020.366</td>\n",
       "      <td>2020-12-31T23:22:33.418</td>\n",
       "      <td>0.336791</td>\n",
       "      <td>p</td>\n",
       "    </tr>\n",
       "    <tr>\n",
       "      <th>274</th>\n",
       "      <td>CX.PB01..NEZ.HH.D.2020.366</td>\n",
       "      <td>2020-12-31T23:44:28.718</td>\n",
       "      <td>0.646373</td>\n",
       "      <td>p</td>\n",
       "    </tr>\n",
       "    <tr>\n",
       "      <th>275</th>\n",
       "      <td>CX.PB01..NEZ.HH.D.2020.366</td>\n",
       "      <td>2020-12-31T23:46:23.478</td>\n",
       "      <td>0.383596</td>\n",
       "      <td>p</td>\n",
       "    </tr>\n",
       "    <tr>\n",
       "      <th>276</th>\n",
       "      <td>CX.PB01..NEZ.HH.D.2020.366</td>\n",
       "      <td>2020-12-31T23:47:07.008</td>\n",
       "      <td>0.847553</td>\n",
       "      <td>p</td>\n",
       "    </tr>\n",
       "    <tr>\n",
       "      <th>277</th>\n",
       "      <td>CX.PB01..NEZ.HH.D.2020.366</td>\n",
       "      <td>2020-12-31T23:50:38.458</td>\n",
       "      <td>0.980324</td>\n",
       "      <td>p</td>\n",
       "    </tr>\n",
       "  </tbody>\n",
       "</table>\n",
       "<p>278 rows × 4 columns</p>\n",
       "</div>"
      ],
      "text/plain": [
       "                             id                timestamp      prob type\n",
       "0    CX.PB01..NEZ.HH.D.2020.366  2020-12-31T00:09:05.968  0.385177    p\n",
       "1    CX.PB01..NEZ.HH.D.2020.366  2020-12-31T00:11:13.558  0.305145    p\n",
       "2    CX.PB01..NEZ.HH.D.2020.366  2020-12-31T00:12:15.598  0.464926    p\n",
       "3    CX.PB01..NEZ.HH.D.2020.366  2020-12-31T00:19:54.328  0.946265    p\n",
       "4    CX.PB01..NEZ.HH.D.2020.366  2020-12-31T00:22:25.718  0.563404    p\n",
       "..                          ...                      ...       ...  ...\n",
       "273  CX.PB01..NEZ.HH.D.2020.366  2020-12-31T23:22:33.418  0.336791    p\n",
       "274  CX.PB01..NEZ.HH.D.2020.366  2020-12-31T23:44:28.718  0.646373    p\n",
       "275  CX.PB01..NEZ.HH.D.2020.366  2020-12-31T23:46:23.478  0.383596    p\n",
       "276  CX.PB01..NEZ.HH.D.2020.366  2020-12-31T23:47:07.008  0.847553    p\n",
       "277  CX.PB01..NEZ.HH.D.2020.366  2020-12-31T23:50:38.458  0.980324    p\n",
       "\n",
       "[278 rows x 4 columns]"
      ]
     },
     "execution_count": 1639,
     "metadata": {},
     "output_type": "execute_result"
    }
   ],
   "source": [
    "df_p_waves\n"
   ]
  },
  {
   "cell_type": "code",
   "execution_count": 1640,
   "id": "263e28b4",
   "metadata": {},
   "outputs": [
    {
     "data": {
      "text/html": [
       "<div>\n",
       "<style scoped>\n",
       "    .dataframe tbody tr th:only-of-type {\n",
       "        vertical-align: middle;\n",
       "    }\n",
       "\n",
       "    .dataframe tbody tr th {\n",
       "        vertical-align: top;\n",
       "    }\n",
       "\n",
       "    .dataframe thead th {\n",
       "        text-align: right;\n",
       "    }\n",
       "</style>\n",
       "<table border=\"1\" class=\"dataframe\">\n",
       "  <thead>\n",
       "    <tr style=\"text-align: right;\">\n",
       "      <th></th>\n",
       "      <th>id</th>\n",
       "      <th>timestamp</th>\n",
       "      <th>prob</th>\n",
       "      <th>type</th>\n",
       "    </tr>\n",
       "  </thead>\n",
       "  <tbody>\n",
       "    <tr>\n",
       "      <th>278</th>\n",
       "      <td>CX.PB01..NEZ.HH.D.2020.366</td>\n",
       "      <td>2020-12-30T23:59:59.438</td>\n",
       "      <td>0.554925</td>\n",
       "      <td>s</td>\n",
       "    </tr>\n",
       "    <tr>\n",
       "      <th>279</th>\n",
       "      <td>CX.PB01..NEZ.HH.D.2020.366</td>\n",
       "      <td>2020-12-31T00:06:25.348</td>\n",
       "      <td>0.404114</td>\n",
       "      <td>s</td>\n",
       "    </tr>\n",
       "    <tr>\n",
       "      <th>280</th>\n",
       "      <td>CX.PB01..NEZ.HH.D.2020.366</td>\n",
       "      <td>2020-12-31T00:09:09.248</td>\n",
       "      <td>0.567611</td>\n",
       "      <td>s</td>\n",
       "    </tr>\n",
       "    <tr>\n",
       "      <th>281</th>\n",
       "      <td>CX.PB01..NEZ.HH.D.2020.366</td>\n",
       "      <td>2020-12-31T00:13:26.238</td>\n",
       "      <td>0.388112</td>\n",
       "      <td>s</td>\n",
       "    </tr>\n",
       "    <tr>\n",
       "      <th>282</th>\n",
       "      <td>CX.PB01..NEZ.HH.D.2020.366</td>\n",
       "      <td>2020-12-31T00:20:12.808</td>\n",
       "      <td>0.697182</td>\n",
       "      <td>s</td>\n",
       "    </tr>\n",
       "    <tr>\n",
       "      <th>283</th>\n",
       "      <td>CX.PB01..NEZ.HH.D.2020.366</td>\n",
       "      <td>2020-12-31T00:22:47.328</td>\n",
       "      <td>0.381351</td>\n",
       "      <td>s</td>\n",
       "    </tr>\n",
       "    <tr>\n",
       "      <th>284</th>\n",
       "      <td>CX.PB01..NEZ.HH.D.2020.366</td>\n",
       "      <td>2020-12-31T00:25:57.078</td>\n",
       "      <td>0.640178</td>\n",
       "      <td>s</td>\n",
       "    </tr>\n",
       "    <tr>\n",
       "      <th>285</th>\n",
       "      <td>CX.PB01..NEZ.HH.D.2020.366</td>\n",
       "      <td>2020-12-31T00:30:55.228</td>\n",
       "      <td>0.635693</td>\n",
       "      <td>s</td>\n",
       "    </tr>\n",
       "    <tr>\n",
       "      <th>286</th>\n",
       "      <td>CX.PB01..NEZ.HH.D.2020.366</td>\n",
       "      <td>2020-12-31T00:34:18.138</td>\n",
       "      <td>0.710155</td>\n",
       "      <td>s</td>\n",
       "    </tr>\n",
       "    <tr>\n",
       "      <th>287</th>\n",
       "      <td>CX.PB01..NEZ.HH.D.2020.366</td>\n",
       "      <td>2020-12-31T00:35:14.928</td>\n",
       "      <td>0.652215</td>\n",
       "      <td>s</td>\n",
       "    </tr>\n",
       "  </tbody>\n",
       "</table>\n",
       "</div>"
      ],
      "text/plain": [
       "                             id                timestamp      prob type\n",
       "278  CX.PB01..NEZ.HH.D.2020.366  2020-12-30T23:59:59.438  0.554925    s\n",
       "279  CX.PB01..NEZ.HH.D.2020.366  2020-12-31T00:06:25.348  0.404114    s\n",
       "280  CX.PB01..NEZ.HH.D.2020.366  2020-12-31T00:09:09.248  0.567611    s\n",
       "281  CX.PB01..NEZ.HH.D.2020.366  2020-12-31T00:13:26.238  0.388112    s\n",
       "282  CX.PB01..NEZ.HH.D.2020.366  2020-12-31T00:20:12.808  0.697182    s\n",
       "283  CX.PB01..NEZ.HH.D.2020.366  2020-12-31T00:22:47.328  0.381351    s\n",
       "284  CX.PB01..NEZ.HH.D.2020.366  2020-12-31T00:25:57.078  0.640178    s\n",
       "285  CX.PB01..NEZ.HH.D.2020.366  2020-12-31T00:30:55.228  0.635693    s\n",
       "286  CX.PB01..NEZ.HH.D.2020.366  2020-12-31T00:34:18.138  0.710155    s\n",
       "287  CX.PB01..NEZ.HH.D.2020.366  2020-12-31T00:35:14.928  0.652215    s"
      ]
     },
     "execution_count": 1640,
     "metadata": {},
     "output_type": "execute_result"
    }
   ],
   "source": [
    "df_s_waves.iloc[0:10]"
   ]
  },
  {
   "cell_type": "markdown",
   "id": "479c8765",
   "metadata": {},
   "source": [
    "# Read data using obspy"
   ]
  },
  {
   "cell_type": "code",
   "execution_count": 1641,
   "id": "b54018e0",
   "metadata": {},
   "outputs": [
    {
     "data": {
      "text/plain": [
       "         network: CX\n",
       "         station: PB01\n",
       "        location: \n",
       "         channel: HHE\n",
       "       starttime: 2020-12-31T09:55:35.598393Z\n",
       "         endtime: 2020-12-31T10:12:15.598393Z\n",
       "   sampling_rate: 100.0\n",
       "           delta: 0.01\n",
       "            npts: 100001\n",
       "           calib: 1.0\n",
       "         _format: MSEED\n",
       "           mseed: AttribDict({'dataquality': 'D', 'number_of_records': 13428, 'encoding': 'STEIM2', 'byteorder': '>', 'record_length': 512, 'filesize': 20700160})\n",
       "      processing: ['ObsPy 1.2.2: trim(endtime=UTCDateTime(2020, 12, 31, 10, 12, 15, 598393)::fill_value=None::nearest_sample=True::pad=False::starttime=UTCDateTime(2020, 12, 31, 9, 55, 35, 598393))', \"ObsPy 1.2.2: filter(options={'freqmin': 1, 'freqmax': 20}::type='bandpass')\"]"
      ]
     },
     "execution_count": 1641,
     "metadata": {},
     "output_type": "execute_result"
    }
   ],
   "source": [
    "import obspy\n",
    "stream = obspy.read(os.path.join(CATALOG_ROOT, \"mseed/CX.PB01..NEZ.HH.D.2020.366\"), sep=\"\\t\")\n",
    "start=obspy.UTCDateTime(\"2020-12-31T09:55:35.598393Z\")\n",
    "dt = 1000\n",
    "stream = stream.slice (start,start+dt)\n",
    "stream.filter('bandpass', freqmin= 1, freqmax=20)\n",
    "#stream.plot()\n",
    "stream[0].stats"
   ]
  },
  {
   "cell_type": "code",
   "execution_count": null,
   "id": "05d2dad3",
   "metadata": {},
   "outputs": [],
   "source": []
  },
  {
   "cell_type": "code",
   "execution_count": 1642,
   "id": "0bc7448b",
   "metadata": {},
   "outputs": [
    {
     "name": "stdout",
     "output_type": "stream",
     "text": [
      "                             id                timestamp      prob type\n",
      "112  CX.PB01..NEZ.HH.D.2020.366  2020-12-31T10:00:33.328  0.528583    p\n",
      "113  CX.PB01..NEZ.HH.D.2020.366  2020-12-31T10:07:54.718  0.888681    p\n",
      "114  CX.PB01..NEZ.HH.D.2020.366  2020-12-31T10:12:03.608  0.799890    p\n",
      "                             id                timestamp      prob type\n",
      "408  CX.PB01..NEZ.HH.D.2020.366  2020-12-31T09:58:40.648  0.667268    s\n",
      "409  CX.PB01..NEZ.HH.D.2020.366  2020-12-31T09:59:34.858  0.468925    s\n",
      "410  CX.PB01..NEZ.HH.D.2020.366  2020-12-31T10:00:45.128  0.714732    s\n",
      "411  CX.PB01..NEZ.HH.D.2020.366  2020-12-31T10:08:12.488  0.659481    s\n"
     ]
    }
   ],
   "source": [
    "mask_p = (df_p_waves['timestamp']> stream[0].stats.starttime) & (df_p_waves['timestamp']<stream[0].stats.starttime+dt)\n",
    "mask_s = (df_s_waves['timestamp']> stream[0].stats.starttime) & (df_s_waves['timestamp']<stream[0].stats.starttime+dt)\n",
    "\n",
    "new_df_p_waves = df_p_waves.loc[mask_p]\n",
    "new_df_s_waves = df_s_waves.loc[mask_s]\n",
    "print (new_df_p_waves)\n",
    "print (new_df_s_waves)"
   ]
  },
  {
   "cell_type": "code",
   "execution_count": 1643,
   "id": "ccab9db9",
   "metadata": {},
   "outputs": [
    {
     "data": {
      "text/plain": [
       "2304.0548924813647"
      ]
     },
     "execution_count": 1643,
     "metadata": {},
     "output_type": "execute_result"
    }
   ],
   "source": [
    "stream[0].max()"
   ]
  },
  {
   "cell_type": "code",
   "execution_count": 1644,
   "id": "e31ed1f2",
   "metadata": {},
   "outputs": [
    {
     "data": {
      "image/png": "[encoded data removed]",
      "text/plain": [
       "<Figure size 2160x1080 with 3 Axes>"
      ]
     },
     "metadata": {
      "needs_background": "light"
     },
     "output_type": "display_data"
    }
   ],
   "source": [
    "import datetime\n",
    "# plot\n",
    "fig, ax = plt.subplots(3,1,figsize=(30,15))\n",
    "times = stream[0].times('matplotlib')\n",
    "ax[0].plot(stream[0].times('matplotlib'), stream[0].data, markersize=1, label = 'E Stream', color = 'k')\n",
    "ax[1].plot(stream[1].times('matplotlib'), stream[1].data, markersize=1, label = 'N Stream', color = 'k')\n",
    "ax[2].plot(stream[2].times('matplotlib'), stream[2].data, markersize=1, label = 'Z Stream', color = 'k')\n",
    "\n",
    "# Draw P waves imported from PhaseNet\n",
    "ax[0].vlines([obspy.UTCDateTime(t).matplotlib_date for t in new_df_p_waves['timestamp']], \n",
    "    ymin = (-stream[0].max()*np.array (new_df_p_waves['prob'])).tolist(),\n",
    "    ymax = (stream[0].max()*np.array (new_df_p_waves['prob'])).tolist(),\n",
    "    color='b', linestyle='solid', label = 'P wave picked by PhaseNet')\n",
    "ax[0].xaxis_date()\n",
    "\n",
    "ax[1].vlines([obspy.UTCDateTime(t).matplotlib_date for t in new_df_p_waves['timestamp']], \n",
    "    ymin = (-stream[1].max()*np.array (new_df_p_waves['prob'])).tolist(),\n",
    "    ymax = (stream[1].max()*np.array (new_df_p_waves['prob'])).tolist(),\n",
    "    color='b', linestyle='solid', label = 'P wave picked by PhaseNet')\n",
    "ax[1].xaxis_date()\n",
    "\n",
    "ax[2].vlines([obspy.UTCDateTime(t).matplotlib_date for t in new_df_p_waves['timestamp']], \n",
    "    ymin = (-stream[2].max()*np.array (new_df_p_waves['prob'])).tolist(),\n",
    "    ymax = (stream[2].max()*np.array (new_df_p_waves['prob'])).tolist(),\n",
    "    color='b', linestyle='solid', label = 'P wave picked by PhaseNet')\n",
    "ax[2].xaxis_date()\n",
    "\n",
    "# Draw S waves imported from PhaseNet\n",
    "ax[0].vlines([obspy.UTCDateTime(t).matplotlib_date for t in new_df_s_waves['timestamp']], \n",
    "    ymin = (-stream[0].max()*np.array (new_df_s_waves['prob'])).tolist(),\n",
    "    ymax = (stream[0].max()*np.array (new_df_s_waves['prob'])).tolist(),\n",
    "    color='r', linestyle='solid', label = 'S wave picked by PhaseNet')\n",
    "ax[0].xaxis_date()\n",
    "\n",
    "ax[1].vlines([obspy.UTCDateTime(t).matplotlib_date for t in new_df_s_waves['timestamp']], \n",
    "    ymin = (-stream[1].max()*np.array (new_df_s_waves['prob'])).tolist(),\n",
    "    ymax = (stream[1].max()*np.array (new_df_s_waves['prob'])).tolist(),\n",
    "    color='r', linestyle='solid', label = 'S wave picked by PhaseNet')\n",
    "ax[1].xaxis_date()\n",
    "\n",
    "ax[2].vlines([obspy.UTCDateTime(t).matplotlib_date for t in new_df_s_waves['timestamp']], \n",
    "    ymin = (-stream[2].max()*np.array (new_df_s_waves['prob'])).tolist(),\n",
    "    ymax = (stream[2].max()*np.array (new_df_s_waves['prob'])).tolist(),\n",
    "    color='r', linestyle='solid', label = 'S wave picked by PhaseNet')\n",
    "ax[2].xaxis_date()\n",
    "\n",
    "'''\n",
    "\n",
    "ax[0].vlines([obspy.UTCDateTime(t).matplotlib_date for t in new_df_p_waves['timestamp']],-stream[0].max(),stream[0].max(), color='b', linestyle='solid')\n",
    "ax[0].xaxis_date()\n",
    "\n",
    "ax[1].vlines([obspy.UTCDateTime(t).matplotlib_date for t in new_df_p_waves['timestamp']],-stream[1].max(),stream[1].max(), color='b', linestyle='solid')\n",
    "ax[1].xaxis_date()\n",
    "\n",
    "ax[2].vlines([obspy.UTCDateTime(t).matplotlib_date for t in new_df_p_waves['timestamp']],-stream[2].max(),stream[2].max(), color='b', linestyle='solid')\n",
    "ax[2].xaxis_date()\n",
    "\n",
    "ax[0].vlines([obspy.UTCDateTime(t).matplotlib_date for t in new_df_s_waves['timestamp']],-stream[0].max(),stream[0].max(), color='r', linestyle='solid')\n",
    "ax[0].xaxis_date()\n",
    "\n",
    "ax[1].vlines([obspy.UTCDateTime(t).matplotlib_date for t in new_df_s_waves['timestamp']],-stream[1].max(),stream[1].max(), color='r', linestyle='solid')\n",
    "ax[1].xaxis_date()\n",
    "\n",
    "ax[2].vlines([obspy.UTCDateTime(t).matplotlib_date for t in new_df_s_waves['timestamp']],-stream[2].max(),stream[2].max(), color='r', linestyle='solid')\n",
    "ax[2].xaxis_date()\n",
    "#ax[0].vlines(pd.to_datetime(new_df_p_waves['timestamp'])[0], ymin=0, ymax=abs(stream.max()[0])*new_df_p_waves['prob'].iloc[1])\n",
    "#ax[0].vlines(x=['2020-07-14', '2021-07-14'], ymin=0, ymax=1000, colors='purple', ls='--', lw=2, label='vline_multiple')\n",
    "#ax[0].legend(bbox_to_anchor=(1.04, 0.5), loc=\"center left\")\n",
    "\n",
    "#ax[0].vlines(dates.date2num(obspy.UTCDateTime(new_df_p_waves['timestamp'][0]).datetime),0,1000)\n",
    "\n",
    "'''\n",
    "\n",
    "\n",
    "fig.suptitle(\"{0}.{1} \\n Start Time:{2} \\n End time: {3}\".format(stream[0].stats.network,stream[0].stats.station, stream[0].stats.starttime, stream[0].stats.endtime),\n",
    "             fontsize = 16)\n",
    "\n",
    "\n",
    "'''\n",
    "for i in range (0,new_df_p_waves.shape[0]):\n",
    "    if i < new_df_p_waves.shape[0]-1:\n",
    "        if new_df_p_waves['id'].iloc[i] == 'CX.PB01..HHN.D.2020.366':\n",
    "            ax[0].vlines(x=pd.Timestamp(new_df_p_waves['timestamp'].iloc[i]), ymin=0, ymax=abs(stream.max()[0])*new_df_p_waves['prob'].iloc[i], color='b', linestyle='solid')\n",
    "        \n",
    "            ax[1].vlines(x=pd.Timestamp(new_df_p_waves['timestamp'].iloc[i]), ymin=0, ymax=abs(stream.max()[1])*new_df_p_waves['prob'].iloc[i], color='b', linestyle='solid')\n",
    "        \n",
    "            ax[2].vlines(x=pd.Timestamp(new_df_p_waves['timestamp'].iloc[i]), ymin=0, ymax=abs(stream.max()[2])*new_df_p_waves['prob'].iloc[i], color='b', linestyle='solid')\n",
    "    else:\n",
    "            ax[0].vlines(x=pd.Timestamp(new_df_p_waves['timestamp'].iloc[i]), ymin=0, ymax=abs(stream.max()[0])*new_df_p_waves['prob'].iloc[i],label = 'P wave picked by PhaseNet', color='b', linestyle='solid')\n",
    "            ax[1].vlines(x=pd.Timestamp(new_df_p_waves['timestamp'].iloc[i]), ymin=0, ymax=abs(stream.max()[1])*new_df_p_waves['prob'].iloc[i],label = 'P wave picked by PhaseNet', color='b', linestyle='solid')\n",
    "            ax[2].vlines(x=pd.Timestamp(new_df_p_waves['timestamp'].iloc[i]), ymin=0, ymax=abs(stream.max()[2])*new_df_p_waves['prob'].iloc[i],label = 'P wave picked by PhaseNet', color='b', linestyle='solid')        \n",
    "\n",
    "for j in range (0,new_df_s_waves.shape[0]):\n",
    "    if j < new_df_s_waves.shape[0]-1:\n",
    "            ax[0].vlines(x=pd.Timestamp(new_df_s_waves['timestamp'].iloc[j]), ymin=0, ymax=abs(stream[0].max()[0])*new_df_s_waves['prob'].iloc[j], color='red',linestyle='solid')\n",
    "            ax[1].vlines(x=pd.Timestamp(new_df_s_waves['timestamp'].iloc[j]), ymin=0, ymax=abs(stream[1].max()[1])*new_df_s_waves['prob'].iloc[j], color='red',linestyle='solid')\n",
    "            ax[2].vlines(x=pd.Timestamp(new_df_s_waves['timestamp'].iloc[j]), ymin=0, ymax=abs(stream[2].max()[2])*new_df_s_waves['prob'].iloc[j], color='red',linestyle='solid')\n",
    "    else:\n",
    "        ax[0].vlines(x=pd.Timestamp(new_df_s_waves['timestamp'].iloc[j]), ymin=0, ymax=abs(stream[0].max()[0])*new_df_s_waves['prob'].iloc[j], label = 'S wave picked by PhaseNet', color='red',linestyle='solid')\n",
    "        ax[1].vlines(x=pd.Timestamp(new_df_s_waves['timestamp'].iloc[j]), ymin=0, ymax=abs(stream[1].max()[1])*new_df_s_waves['prob'].iloc[j], label = 'S wave picked by PhaseNet', color='red',linestyle='solid')\n",
    "        ax[2].vlines(x=pd.Timestamp(new_df_s_waves['timestamp'].iloc[j]), ymin=0, ymax=abs(stream[2].max()[2])*new_df_s_waves['prob'].iloc[j], label = 'S wave picked by PhaseNet', color='red',linestyle='solid')\n",
    "'''\n",
    "ax[0].legend(loc='lower right')\n",
    "ax[1].legend(loc='lower right')\n",
    "ax[2].legend(loc='lower right')\n",
    "\n",
    "\n",
    "file_name = '{0}.{extention}'.format(stream[0].stats.starttime, extention='png')\n",
    "fig.savefig(os.path.join(export_fig_path, file_name), facecolor = 'w')\n"
   ]
  },
  {
   "cell_type": "code",
   "execution_count": 1645,
   "id": "1b73cbaa",
   "metadata": {},
   "outputs": [],
   "source": [
    "#stream[0].times('matplotlib') + stream[0].stats.starttime.matplotlib_date\n"
   ]
  },
  {
   "cell_type": "code",
   "execution_count": 1646,
   "id": "37354775",
   "metadata": {},
   "outputs": [
    {
     "data": {
      "text/plain": [
       "array([ 18627.41705241,  18627.42216109,  18627.42504176])"
      ]
     },
     "execution_count": 1646,
     "metadata": {},
     "output_type": "execute_result"
    }
   ],
   "source": [
    "p_waves = [obspy.UTCDateTime(t).matplotlib_date for t in new_df_p_waves['timestamp']]\n",
    "np.array (p_waves)"
   ]
  },
  {
   "cell_type": "code",
   "execution_count": 1647,
   "id": "630b85b7",
   "metadata": {},
   "outputs": [
    {
     "data": {
      "text/plain": [
       "array(['2020-12-31T10:00:33.328', '2020-12-31T10:07:54.718',\n",
       "       '2020-12-31T10:12:03.608'], dtype='datetime64[ms]')"
      ]
     },
     "execution_count": 1647,
     "metadata": {},
     "output_type": "execute_result"
    }
   ],
   "source": [
    "np.array (new_df_p_waves['timestamp'], dtype=np.datetime64)"
   ]
  },
  {
   "cell_type": "code",
   "execution_count": 1648,
   "id": "63e76809",
   "metadata": {},
   "outputs": [
    {
     "data": {
      "text/plain": [
       "array([ 18627.41360646,  18627.41360658,  18627.41360669, ...,\n",
       "        18627.42518031,  18627.42518042,  18627.42518054])"
      ]
     },
     "execution_count": 1648,
     "metadata": {},
     "output_type": "execute_result"
    }
   ],
   "source": [
    "times"
   ]
  },
  {
   "cell_type": "code",
   "execution_count": 1649,
   "id": "55872455",
   "metadata": {},
   "outputs": [
    {
     "data": {
      "text/html": [
       "<div>\n",
       "<style scoped>\n",
       "    .dataframe tbody tr th:only-of-type {\n",
       "        vertical-align: middle;\n",
       "    }\n",
       "\n",
       "    .dataframe tbody tr th {\n",
       "        vertical-align: top;\n",
       "    }\n",
       "\n",
       "    .dataframe thead th {\n",
       "        text-align: right;\n",
       "    }\n",
       "</style>\n",
       "<table border=\"1\" class=\"dataframe\">\n",
       "  <thead>\n",
       "    <tr style=\"text-align: right;\">\n",
       "      <th></th>\n",
       "      <th>id</th>\n",
       "      <th>timestamp</th>\n",
       "      <th>prob</th>\n",
       "      <th>type</th>\n",
       "    </tr>\n",
       "  </thead>\n",
       "  <tbody>\n",
       "    <tr>\n",
       "      <th>112</th>\n",
       "      <td>CX.PB01..NEZ.HH.D.2020.366</td>\n",
       "      <td>2020-12-31T10:00:33.328</td>\n",
       "      <td>0.528583</td>\n",
       "      <td>p</td>\n",
       "    </tr>\n",
       "    <tr>\n",
       "      <th>113</th>\n",
       "      <td>CX.PB01..NEZ.HH.D.2020.366</td>\n",
       "      <td>2020-12-31T10:07:54.718</td>\n",
       "      <td>0.888681</td>\n",
       "      <td>p</td>\n",
       "    </tr>\n",
       "    <tr>\n",
       "      <th>114</th>\n",
       "      <td>CX.PB01..NEZ.HH.D.2020.366</td>\n",
       "      <td>2020-12-31T10:12:03.608</td>\n",
       "      <td>0.799890</td>\n",
       "      <td>p</td>\n",
       "    </tr>\n",
       "  </tbody>\n",
       "</table>\n",
       "</div>"
      ],
      "text/plain": [
       "                             id                timestamp      prob type\n",
       "112  CX.PB01..NEZ.HH.D.2020.366  2020-12-31T10:00:33.328  0.528583    p\n",
       "113  CX.PB01..NEZ.HH.D.2020.366  2020-12-31T10:07:54.718  0.888681    p\n",
       "114  CX.PB01..NEZ.HH.D.2020.366  2020-12-31T10:12:03.608  0.799890    p"
      ]
     },
     "execution_count": 1649,
     "metadata": {},
     "output_type": "execute_result"
    }
   ],
   "source": [
    "new_df_p_waves"
   ]
  },
  {
   "cell_type": "code",
   "execution_count": 1650,
   "id": "94a0e9d3",
   "metadata": {},
   "outputs": [
    {
     "data": {
      "text/plain": [
       "112   2020-12-31 10:00:33.328\n",
       "113   2020-12-31 10:07:54.718\n",
       "114   2020-12-31 10:12:03.608\n",
       "Name: timestamp, dtype: datetime64[ns]"
      ]
     },
     "execution_count": 1650,
     "metadata": {},
     "output_type": "execute_result"
    }
   ],
   "source": [
    "x = pd.to_datetime(new_df_p_waves['timestamp'])\n",
    "x"
   ]
  },
  {
   "cell_type": "code",
   "execution_count": 1651,
   "id": "f836bc99",
   "metadata": {},
   "outputs": [
    {
     "data": {
      "text/plain": [
       "1970-01-01T05:10:27.413606Z"
      ]
     },
     "execution_count": 1651,
     "metadata": {},
     "output_type": "execute_result"
    }
   ],
   "source": [
    "obspy.UTCDateTime(times[0])"
   ]
  },
  {
   "cell_type": "code",
   "execution_count": 1652,
   "id": "7bdda55b",
   "metadata": {},
   "outputs": [
    {
     "data": {
      "text/plain": [
       "[18627.417052407407, 18627.422161087961, 18627.425041759259]"
      ]
     },
     "execution_count": 1652,
     "metadata": {},
     "output_type": "execute_result"
    }
   ],
   "source": [
    "p_waves = [obspy.UTCDateTime(t).matplotlib_date for t in new_df_p_waves['timestamp']]\n",
    "#pd.to_datetime(new_df_p_waves['timestamp'][0])\n",
    "#stream[0].times('timestamp')\n",
    "p_waves"
   ]
  },
  {
   "cell_type": "code",
   "execution_count": 1653,
   "id": "fe2a22f6",
   "metadata": {},
   "outputs": [
    {
     "data": {
      "text/plain": [
       "[18627.417052407407, 18627.422161087961, 18627.425041759259]"
      ]
     },
     "execution_count": 1653,
     "metadata": {},
     "output_type": "execute_result"
    }
   ],
   "source": [
    "p_waves"
   ]
  },
  {
   "cell_type": "code",
   "execution_count": 1654,
   "id": "4587150d",
   "metadata": {},
   "outputs": [
    {
     "data": {
      "image/png": "[encoded data removed]",
      "text/plain": [
       "<Figure size 2160x1080 with 3 Axes>"
      ]
     },
     "metadata": {
      "needs_background": "light"
     },
     "output_type": "display_data"
    }
   ],
   "source": [
    "# plot\n",
    "fig, ax = plt.subplots(3,1,figsize=(30,15))\n",
    "times = stream[0].times('matplotlib') + stream[0].stats.starttime.matplotlib_date\n",
    "ax[0].plot_date(times, stream[0].data, markersize=1, label = 'E Stream', color = 'k')\n",
    "p_waves = [obspy.UTCDateTime(t).matplotlib_date for t in new_df_p_waves['timestamp']]\n",
    "#ax[0].vlines(p_waves[2], ymin=0, ymax=abs(stream.max()[0])*new_df_p_waves['prob'].iloc[2])"
   ]
  },
  {
   "cell_type": "code",
   "execution_count": 1655,
   "id": "a2b23d91",
   "metadata": {},
   "outputs": [
    {
     "data": {
      "text/plain": [
       "         network: CX\n",
       "         station: PB01\n",
       "        location: \n",
       "         channel: HHE\n",
       "       starttime: 2020-12-31T09:55:35.598393Z\n",
       "         endtime: 2020-12-31T10:12:15.598393Z\n",
       "   sampling_rate: 100.0\n",
       "           delta: 0.01\n",
       "            npts: 100001\n",
       "           calib: 1.0\n",
       "         _format: MSEED\n",
       "           mseed: AttribDict({'dataquality': 'D', 'number_of_records': 13428, 'encoding': 'STEIM2', 'byteorder': '>', 'record_length': 512, 'filesize': 20700160})\n",
       "      processing: ['ObsPy 1.2.2: trim(endtime=UTCDateTime(2020, 12, 31, 10, 12, 15, 598393)::fill_value=None::nearest_sample=True::pad=False::starttime=UTCDateTime(2020, 12, 31, 9, 55, 35, 598393))', \"ObsPy 1.2.2: filter(options={'freqmin': 1, 'freqmax': 20}::type='bandpass')\"]"
      ]
     },
     "execution_count": 1655,
     "metadata": {},
     "output_type": "execute_result"
    }
   ],
   "source": [
    "stream[0].stats"
   ]
  },
  {
   "cell_type": "code",
   "execution_count": null,
   "id": "8906642f",
   "metadata": {},
   "outputs": [],
   "source": []
  }
 ],
 "metadata": {
  "kernelspec": {
   "display_name": "Python 3",
   "language": "python",
   "name": "python3"
  },
  "language_info": {
   "codemirror_mode": {
    "name": "ipython",
    "version": 3
   },
   "file_extension": ".py",
   "mimetype": "text/x-python",
   "name": "python",
   "nbconvert_exporter": "python",
   "pygments_lexer": "ipython3",
   "version": "3.7.7"
  }
 },
 "nbformat": 4,
 "nbformat_minor": 5
}
